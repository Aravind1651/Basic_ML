{
  "nbformat": 4,
  "nbformat_minor": 0,
  "metadata": {
    "colab": {
      "name": "Untitled2.ipynb",
      "provenance": [],
      "authorship_tag": "ABX9TyPTiKWr/ZBce1SFDRdOBML1",
      "include_colab_link": true
    },
    "kernelspec": {
      "name": "python3",
      "display_name": "Python 3"
    },
    "language_info": {
      "name": "python"
    }
  },
  "cells": [
    {
      "cell_type": "markdown",
      "metadata": {
        "id": "view-in-github",
        "colab_type": "text"
      },
      "source": [
        "<a href=\"https://colab.research.google.com/github/Aravind1651/Basic_ML/blob/main/Untitled2.ipynb\" target=\"_parent\"><img src=\"https://colab.research.google.com/assets/colab-badge.svg\" alt=\"Open In Colab\"/></a>"
      ]
    },
    {
      "cell_type": "code",
      "metadata": {
        "id": "Xn2ghqIpzWxt"
      },
      "source": [
        ""
      ],
      "execution_count": null,
      "outputs": []
    },
    {
      "cell_type": "markdown",
      "metadata": {
        "id": "OUui1Hn0zXY2"
      },
      "source": [
        "addition of two numbers"
      ]
    },
    {
      "cell_type": "code",
      "metadata": {
        "colab": {
          "base_uri": "https://localhost:8080/"
        },
        "id": "PLv-bdP8zapP",
        "outputId": "fcaa3a01-d22d-4db6-9db2-f1d37ba218ba"
      },
      "source": [
        "a=int(input())\n",
        "b=int(input())\n",
        "print(a+b)"
      ],
      "execution_count": 1,
      "outputs": [
        {
          "output_type": "stream",
          "text": [
            "13\n",
            "12\n",
            "25\n"
          ],
          "name": "stdout"
        }
      ]
    },
    {
      "cell_type": "markdown",
      "metadata": {
        "id": "Yg-TTjtqzm9U"
      },
      "source": [
        "addition of n numbers"
      ]
    },
    {
      "cell_type": "code",
      "metadata": {
        "colab": {
          "base_uri": "https://localhost:8080/"
        },
        "id": "FcSvASqIzrQY",
        "outputId": "8c86b7d2-7d33-43bf-ab0e-93c15214b444"
      },
      "source": [
        "a=int(input())\n",
        "sum=0\n",
        "for i in range(0,a):\n",
        "  sum=sum+i\n",
        "print(sum)"
      ],
      "execution_count": 2,
      "outputs": [
        {
          "output_type": "stream",
          "text": [
            "6\n",
            "15\n"
          ],
          "name": "stdout"
        }
      ]
    },
    {
      "cell_type": "markdown",
      "metadata": {
        "id": "_ubg4d_6z_eh"
      },
      "source": [
        "string palindrome"
      ]
    },
    {
      "cell_type": "code",
      "metadata": {
        "colab": {
          "base_uri": "https://localhost:8080/"
        },
        "id": "yjllgu19z_AB",
        "outputId": "0e36d8a5-d3f7-4f22-ea38-1bb94c023ed4"
      },
      "source": [
        "a=input()\n",
        "b=a[::-1]\n",
        "if(a==b):\n",
        "  print(\"The given string is a palindrome\")\n",
        "else:\n",
        "  print(\"The given string is not a palindrome\")"
      ],
      "execution_count": 3,
      "outputs": [
        {
          "output_type": "stream",
          "text": [
            "madam\n",
            "The given string is a palindrome\n"
          ],
          "name": "stdout"
        }
      ]
    },
    {
      "cell_type": "code",
      "metadata": {
        "id": "_uojb0wr2IP7"
      },
      "source": [
        ""
      ],
      "execution_count": null,
      "outputs": []
    },
    {
      "cell_type": "code",
      "metadata": {
        "id": "sZkCXADC2Ihs"
      },
      "source": [
        ""
      ],
      "execution_count": null,
      "outputs": []
    }
  ]
}